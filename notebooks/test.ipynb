{
 "cells": [
  {
   "cell_type": "code",
   "execution_count": 1,
   "metadata": {},
   "outputs": [],
   "source": [
    "import autorootcwd"
   ]
  },
  {
   "cell_type": "code",
   "execution_count": 2,
   "metadata": {},
   "outputs": [],
   "source": [
    "from src.data import heart_disease, titanic, artificial\n",
    "from src.irls import IRLS\n",
    "from sklearn.model_selection import train_test_split\n",
    "\n",
    "X_heart, y_heart = heart_disease.prepare_data()\n",
    "\n",
    "# split the data into train and test sets\n",
    "X_train_heart, X_test_heart, y_train_heart, y_test_heart = train_test_split(\n",
    "    X_heart,\n",
    "    y_heart,\n",
    "    test_size=0.2,\n",
    "    random_state=42,\n",
    ")"
   ]
  },
  {
   "cell_type": "code",
   "execution_count": 3,
   "metadata": {},
   "outputs": [],
   "source": [
    "irls_custom = IRLS(interaction_pairs=None, max_iter=1000, tol=1e-6)"
   ]
  },
  {
   "cell_type": "code",
   "execution_count": 4,
   "metadata": {},
   "outputs": [
    {
     "ename": "LinAlgError",
     "evalue": "Singular matrix",
     "output_type": "error",
     "traceback": [
      "\u001b[0;31m---------------------------------------------------------------------------\u001b[0m",
      "\u001b[0;31mLinAlgError\u001b[0m                               Traceback (most recent call last)",
      "\u001b[1;32m/Users/ash/Projects/aml-project-1/notebooks/test.ipynb Cell 4\u001b[0m in \u001b[0;36m1\n\u001b[0;32m----> <a href='vscode-notebook-cell:/Users/ash/Projects/aml-project-1/notebooks/test.ipynb#W3sZmlsZQ%3D%3D?line=0'>1</a>\u001b[0m irls_custom\u001b[39m.\u001b[39mfit(X_train_heart, y_train_heart)\n",
      "File \u001b[0;32m~/Projects/aml-project-1/src/irls.py:45\u001b[0m, in \u001b[0;36mIRLS.fit\u001b[0;34m(self, X, y)\u001b[0m\n\u001b[1;32m     42\u001b[0m H_inv \u001b[39m=\u001b[39m np\u001b[39m.\u001b[39mlinalg\u001b[39m.\u001b[39minv(H)\n\u001b[1;32m     44\u001b[0m \u001b[39m# Update the coefficients using Newton's method\u001b[39;00m\n\u001b[0;32m---> 45\u001b[0m z \u001b[39m=\u001b[39m X \u001b[39m@\u001b[39m w \u001b[39m+\u001b[39m np\u001b[39m.\u001b[39;49mlinalg\u001b[39m.\u001b[39;49minv(W) \u001b[39m@\u001b[39m (y \u001b[39m-\u001b[39m p)\n\u001b[1;32m     46\u001b[0m w_new \u001b[39m=\u001b[39m H_inv \u001b[39m@\u001b[39m X\u001b[39m.\u001b[39mT \u001b[39m@\u001b[39m W \u001b[39m@\u001b[39m z\n\u001b[1;32m     48\u001b[0m \u001b[39m# Check for convergence\u001b[39;00m\n",
      "File \u001b[0;32m<__array_function__ internals>:180\u001b[0m, in \u001b[0;36minv\u001b[0;34m(*args, **kwargs)\u001b[0m\n",
      "File \u001b[0;32m~/opt/miniconda3/envs/myenv/lib/python3.9/site-packages/numpy/linalg/linalg.py:552\u001b[0m, in \u001b[0;36minv\u001b[0;34m(a)\u001b[0m\n\u001b[1;32m    550\u001b[0m signature \u001b[39m=\u001b[39m \u001b[39m'\u001b[39m\u001b[39mD->D\u001b[39m\u001b[39m'\u001b[39m \u001b[39mif\u001b[39;00m isComplexType(t) \u001b[39melse\u001b[39;00m \u001b[39m'\u001b[39m\u001b[39md->d\u001b[39m\u001b[39m'\u001b[39m\n\u001b[1;32m    551\u001b[0m extobj \u001b[39m=\u001b[39m get_linalg_error_extobj(_raise_linalgerror_singular)\n\u001b[0;32m--> 552\u001b[0m ainv \u001b[39m=\u001b[39m _umath_linalg\u001b[39m.\u001b[39;49minv(a, signature\u001b[39m=\u001b[39;49msignature, extobj\u001b[39m=\u001b[39;49mextobj)\n\u001b[1;32m    553\u001b[0m \u001b[39mreturn\u001b[39;00m wrap(ainv\u001b[39m.\u001b[39mastype(result_t, copy\u001b[39m=\u001b[39m\u001b[39mFalse\u001b[39;00m))\n",
      "File \u001b[0;32m~/opt/miniconda3/envs/myenv/lib/python3.9/site-packages/numpy/linalg/linalg.py:89\u001b[0m, in \u001b[0;36m_raise_linalgerror_singular\u001b[0;34m(err, flag)\u001b[0m\n\u001b[1;32m     88\u001b[0m \u001b[39mdef\u001b[39;00m \u001b[39m_raise_linalgerror_singular\u001b[39m(err, flag):\n\u001b[0;32m---> 89\u001b[0m     \u001b[39mraise\u001b[39;00m LinAlgError(\u001b[39m\"\u001b[39m\u001b[39mSingular matrix\u001b[39m\u001b[39m\"\u001b[39m)\n",
      "\u001b[0;31mLinAlgError\u001b[0m: Singular matrix"
     ]
    }
   ],
   "source": [
    "irls_custom.fit(X_train_heart, y_train_heart)"
   ]
  },
  {
   "cell_type": "code",
   "execution_count": null,
   "metadata": {},
   "outputs": [],
   "source": [
    "irls_custom.predict(X_test_heart)\n"
   ]
  },
  {
   "cell_type": "code",
   "execution_count": 5,
   "metadata": {},
   "outputs": [
    {
     "data": {
      "text/plain": [
       "array([[ 29., 130., 204., ...,   1.,   1.,   0.],\n",
       "       [ 57., 150., 126., ...,   1.,   1.,   0.],\n",
       "       [ 69., 160., 234., ...,   1.,   0.,   0.],\n",
       "       ...,\n",
       "       [ 59., 140., 177., ...,   0.,   1.,   0.],\n",
       "       [ 61., 140., 207., ...,   0.,   1.,   0.],\n",
       "       [ 57., 128., 303., ...,   1.,   1.,   0.]], dtype=float32)"
      ]
     },
     "execution_count": 5,
     "metadata": {},
     "output_type": "execute_result"
    }
   ],
   "source": [
    "X_train_heart\n"
   ]
  },
  {
   "cell_type": "code",
   "execution_count": 9,
   "metadata": {},
   "outputs": [
    {
     "name": "stdout",
     "output_type": "stream",
     "text": [
      "82.65236 9.091334\n",
      "330.19733 18.171333\n",
      "2319.6902 48.163162\n",
      "502.85794 22.424494\n",
      "1.4051834 1.1854043\n",
      "0.8005089 0.8947116\n",
      "3.7074816 1.9254822\n",
      "0.2253432 0.47470328\n",
      "0.08264463 0.2874798\n",
      "0.14343281 0.37872523\n",
      "0.20558707 0.45341712\n",
      "0.2471143 0.49710593\n",
      "0.11776858 0.34317428\n",
      "0.25 0.5\n",
      "0.008196162 0.09053266\n",
      "0.22402838 0.47331637\n",
      "0.24938527 0.49938488\n",
      "0.06531317 0.25556442\n"
     ]
    }
   ],
   "source": [
    "# print full X_train_heart np array\n",
    "import numpy as np\n",
    "\n",
    "np.set_printoptions(threshold=np.inf)\n",
    "# X_train_heart\n",
    "\n",
    "# print var and std of each col of np arr\n",
    "for i in range(0, X_train_heart.shape[1]):\n",
    "    print(np.var(X_train_heart[:, i]), np.std(X_train_heart[:, i]))"
   ]
  },
  {
   "cell_type": "code",
   "execution_count": null,
   "metadata": {},
   "outputs": [],
   "source": []
  }
 ],
 "metadata": {
  "kernelspec": {
   "display_name": "myenv",
   "language": "python",
   "name": "python3"
  },
  "language_info": {
   "codemirror_mode": {
    "name": "ipython",
    "version": 3
   },
   "file_extension": ".py",
   "mimetype": "text/x-python",
   "name": "python",
   "nbconvert_exporter": "python",
   "pygments_lexer": "ipython3",
   "version": "3.9.13"
  },
  "orig_nbformat": 4
 },
 "nbformat": 4,
 "nbformat_minor": 2
}
