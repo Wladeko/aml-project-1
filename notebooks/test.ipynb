{
 "cells": [
  {
   "cell_type": "code",
   "execution_count": 1,
   "metadata": {},
   "outputs": [],
   "source": [
    "import autorootcwd\n"
   ]
  },
  {
   "cell_type": "code",
   "execution_count": 2,
   "metadata": {},
   "outputs": [
    {
     "name": "stdout",
     "output_type": "stream",
     "text": [
      "Dropped colinear columns: ['sex_1.0', 'cp_4.0', 'fbs_1.0', 'restecg_2.0', 'exang_1.0', 'slope_1.0', 'slope_2.0']\n"
     ]
    }
   ],
   "source": [
    "from src.data import heart_disease, titanic, artificial\n",
    "from src.irls import IRLS\n",
    "from sklearn.model_selection import train_test_split\n",
    "\n",
    "X_heart, y_heart = heart_disease.prepare_data()\n",
    "\n",
    "# split the data into train and test sets\n",
    "X_train_heart, X_test_heart, y_train_heart, y_test_heart = train_test_split(\n",
    "    X_heart,\n",
    "    y_heart,\n",
    "    test_size=0.2,\n",
    "    random_state=42,\n",
    ")\n"
   ]
  },
  {
   "cell_type": "code",
   "execution_count": 3,
   "metadata": {},
   "outputs": [],
   "source": [
    "irls_custom = IRLS(interaction_pairs=None, max_iter=1000, tol=1e-6)\n"
   ]
  },
  {
   "cell_type": "code",
   "execution_count": 4,
   "metadata": {},
   "outputs": [
    {
     "data": {
      "text/plain": [
       "array([[-4.28083419],\n",
       "       [ 0.01235451],\n",
       "       [ 0.01812425],\n",
       "       [ 0.00895681],\n",
       "       [-0.01491515],\n",
       "       [ 0.63473263],\n",
       "       [ 1.19060765],\n",
       "       [ 0.26816191],\n",
       "       [-1.55484484],\n",
       "       [-1.8133621 ],\n",
       "       [-0.83920047],\n",
       "       [-1.44064618],\n",
       "       [ 0.43419487],\n",
       "       [-0.3420269 ],\n",
       "       [ 0.37199293],\n",
       "       [-0.74751876],\n",
       "       [-1.02215801]])"
      ]
     },
     "execution_count": 4,
     "metadata": {},
     "output_type": "execute_result"
    }
   ],
   "source": [
    "irls_custom.fit(X_train_heart, y_train_heart)\n"
   ]
  },
  {
   "cell_type": "code",
   "execution_count": 5,
   "metadata": {},
   "outputs": [
    {
     "data": {
      "text/plain": [
       "array([[0.63211589],\n",
       "       [0.73953082],\n",
       "       [0.81991708],\n",
       "       [0.62084716],\n",
       "       [0.62137992],\n",
       "       [0.77563011],\n",
       "       [0.97979585],\n",
       "       [0.99518935],\n",
       "       [0.37466399],\n",
       "       [0.53209538],\n",
       "       [0.10551064],\n",
       "       [0.01782063],\n",
       "       [0.72418407],\n",
       "       [0.98581774],\n",
       "       [0.99839348],\n",
       "       [0.05546814],\n",
       "       [0.0321386 ],\n",
       "       [0.6599076 ],\n",
       "       [0.99811542],\n",
       "       [0.08148165],\n",
       "       [0.70688738],\n",
       "       [0.03481233],\n",
       "       [0.99510022],\n",
       "       [0.02379876],\n",
       "       [0.99588537],\n",
       "       [0.03905814],\n",
       "       [0.32295678],\n",
       "       [0.91969968],\n",
       "       [0.9551589 ],\n",
       "       [0.54897616],\n",
       "       [0.17842706],\n",
       "       [0.72799281],\n",
       "       [0.03676694],\n",
       "       [0.54366742],\n",
       "       [0.39861758],\n",
       "       [0.72023225],\n",
       "       [0.98541365],\n",
       "       [0.47684083],\n",
       "       [0.9926727 ],\n",
       "       [0.26253284],\n",
       "       [0.96188132],\n",
       "       [0.30275015],\n",
       "       [0.92015837],\n",
       "       [0.04826085],\n",
       "       [0.28099576],\n",
       "       [0.95891726],\n",
       "       [0.04568296],\n",
       "       [0.11475485],\n",
       "       [0.56459343],\n",
       "       [0.74050179],\n",
       "       [0.3000894 ],\n",
       "       [0.00581352],\n",
       "       [0.01392326],\n",
       "       [0.1139999 ],\n",
       "       [0.83702198],\n",
       "       [0.26007226],\n",
       "       [0.09954511],\n",
       "       [0.93891997],\n",
       "       [0.89652654],\n",
       "       [0.95150103],\n",
       "       [0.19637168]])"
      ]
     },
     "execution_count": 5,
     "metadata": {},
     "output_type": "execute_result"
    }
   ],
   "source": [
    "irls_custom.predict(X_test_heart)"
   ]
  },
  {
   "cell_type": "code",
   "execution_count": 6,
   "metadata": {},
   "outputs": [
    {
     "data": {
      "text/plain": [
       "array([[ 29., 130., 204., ...,   0.,   1.,   0.],\n",
       "       [ 57., 150., 126., ...,   0.,   1.,   0.],\n",
       "       [ 69., 160., 234., ...,   0.,   1.,   0.],\n",
       "       ...,\n",
       "       [ 59., 140., 177., ...,   0.,   0.,   0.],\n",
       "       [ 61., 140., 207., ...,   0.,   0.,   0.],\n",
       "       [ 57., 128., 303., ...,   0.,   1.,   0.]], dtype=float32)"
      ]
     },
     "execution_count": 6,
     "metadata": {},
     "output_type": "execute_result"
    }
   ],
   "source": [
    "X_train_heart"
   ]
  },
  {
   "cell_type": "code",
   "execution_count": 7,
   "metadata": {},
   "outputs": [
    {
     "name": "stdout",
     "output_type": "stream",
     "text": [
      "82.65236 9.091334\n",
      "330.19733 18.171333\n",
      "2319.6902 48.163162\n",
      "502.85794 22.424494\n",
      "1.4051834 1.1854043\n",
      "0.8005089 0.8947116\n",
      "3.7074816 1.9254822\n",
      "0.2253432 0.47470328\n",
      "0.08264463 0.2874798\n",
      "0.14343281 0.37872523\n",
      "0.20558707 0.45341712\n",
      "0.11776858 0.34317428\n",
      "0.25 0.5\n",
      "0.008196162 0.09053266\n",
      "0.22402838 0.47331637\n",
      "0.06531317 0.25556442\n"
     ]
    }
   ],
   "source": [
    "# print full X_train_heart np array\n",
    "import numpy as np\n",
    "\n",
    "np.set_printoptions(threshold=np.inf)\n",
    "# X_train_heart\n",
    "\n",
    "# print var and std of each col of np arr\n",
    "for i in range(0, X_train_heart.shape[1]):\n",
    "    print(np.var(X_train_heart[:, i]), np.std(X_train_heart[:, i]))\n"
   ]
  },
  {
   "cell_type": "code",
   "execution_count": null,
   "metadata": {},
   "outputs": [],
   "source": []
  }
 ],
 "metadata": {
  "kernelspec": {
   "display_name": "myenv",
   "language": "python",
   "name": "python3"
  },
  "language_info": {
   "codemirror_mode": {
    "name": "ipython",
    "version": 3
   },
   "file_extension": ".py",
   "mimetype": "text/x-python",
   "name": "python",
   "nbconvert_exporter": "python",
   "pygments_lexer": "ipython3",
   "version": "3.9.13"
  },
  "orig_nbformat": 4
 },
 "nbformat": 4,
 "nbformat_minor": 2
}
