{
 "cells": [
  {
   "cell_type": "code",
   "execution_count": 1,
   "metadata": {},
   "outputs": [],
   "source": [
    "import autorootcwd\n"
   ]
  },
  {
   "cell_type": "code",
   "execution_count": 2,
   "metadata": {},
   "outputs": [],
   "source": [
    "import itertools\n",
    "import numpy as np\n",
    "import matplotlib.pyplot as plt\n",
    "import seaborn as sns\n",
    "import rich"
   ]
  },
  {
   "cell_type": "code",
   "execution_count": 3,
   "metadata": {},
   "outputs": [],
   "source": [
    "from src.irls import logistic_regression_irls\n",
    "from src.data import artificial\n"
   ]
  },
  {
   "cell_type": "code",
   "execution_count": 4,
   "metadata": {},
   "outputs": [],
   "source": [
    "seed = 42\n",
    "num_samples_list = [500, 1000, 2000, 5000]\n",
    "num_features_list = [5, 7]\n",
    "interaction_pairs_list = [[(0, 1), (1, 2)], [(0, 1), (1, 3), (2, 3)], [(0, 1), (1, 2), (2, 3), (3, 4)]]\n",
    "\n",
    "param_combinations = list(itertools.product(num_samples_list, num_features_list, interaction_pairs_list))"
   ]
  },
  {
   "cell_type": "code",
   "execution_count": 5,
   "metadata": {},
   "outputs": [
    {
     "data": {
      "text/html": [
       "<pre style=\"white-space:pre;overflow-x:auto;line-height:normal;font-family:Menlo,'DejaVu Sans Mono',consolas,'Courier New',monospace\">┏━━━━━━━━━━━━━┳━━━━━━━━━━━━━━┳━━━━━━━━━━━━━━━━━━━━━━━━━━━━━━━━━━┓\n",
       "┃<span style=\"color: #800080; text-decoration-color: #800080; font-weight: bold\"> num_samples </span>┃<span style=\"color: #800080; text-decoration-color: #800080; font-weight: bold\"> num_features </span>┃<span style=\"color: #800080; text-decoration-color: #800080; font-weight: bold\"> interaction_pairs                </span>┃\n",
       "┡━━━━━━━━━━━━━╇━━━━━━━━━━━━━━╇━━━━━━━━━━━━━━━━━━━━━━━━━━━━━━━━━━┩\n",
       "│ 500         │ 5            │ [(0, 1), (1, 2)]                 │\n",
       "│ 500         │ 5            │ [(0, 1), (1, 3), (2, 3)]         │\n",
       "│ 500         │ 5            │ [(0, 1), (1, 2), (2, 3), (3, 4)] │\n",
       "│ 500         │ 7            │ [(0, 1), (1, 2)]                 │\n",
       "│ 500         │ 7            │ [(0, 1), (1, 3), (2, 3)]         │\n",
       "│ 500         │ 7            │ [(0, 1), (1, 2), (2, 3), (3, 4)] │\n",
       "│ 1000        │ 5            │ [(0, 1), (1, 2)]                 │\n",
       "│ 1000        │ 5            │ [(0, 1), (1, 3), (2, 3)]         │\n",
       "│ 1000        │ 5            │ [(0, 1), (1, 2), (2, 3), (3, 4)] │\n",
       "│ 1000        │ 7            │ [(0, 1), (1, 2)]                 │\n",
       "│ 1000        │ 7            │ [(0, 1), (1, 3), (2, 3)]         │\n",
       "│ 1000        │ 7            │ [(0, 1), (1, 2), (2, 3), (3, 4)] │\n",
       "│ 2000        │ 5            │ [(0, 1), (1, 2)]                 │\n",
       "│ 2000        │ 5            │ [(0, 1), (1, 3), (2, 3)]         │\n",
       "│ 2000        │ 5            │ [(0, 1), (1, 2), (2, 3), (3, 4)] │\n",
       "│ 2000        │ 7            │ [(0, 1), (1, 2)]                 │\n",
       "│ 2000        │ 7            │ [(0, 1), (1, 3), (2, 3)]         │\n",
       "│ 2000        │ 7            │ [(0, 1), (1, 2), (2, 3), (3, 4)] │\n",
       "│ 5000        │ 5            │ [(0, 1), (1, 2)]                 │\n",
       "│ 5000        │ 5            │ [(0, 1), (1, 3), (2, 3)]         │\n",
       "│ 5000        │ 5            │ [(0, 1), (1, 2), (2, 3), (3, 4)] │\n",
       "│ 5000        │ 7            │ [(0, 1), (1, 2)]                 │\n",
       "│ 5000        │ 7            │ [(0, 1), (1, 3), (2, 3)]         │\n",
       "│ 5000        │ 7            │ [(0, 1), (1, 2), (2, 3), (3, 4)] │\n",
       "└─────────────┴──────────────┴──────────────────────────────────┘\n",
       "</pre>\n"
      ],
      "text/plain": [
       "┏━━━━━━━━━━━━━┳━━━━━━━━━━━━━━┳━━━━━━━━━━━━━━━━━━━━━━━━━━━━━━━━━━┓\n",
       "┃\u001b[1;35m \u001b[0m\u001b[1;35mnum_samples\u001b[0m\u001b[1;35m \u001b[0m┃\u001b[1;35m \u001b[0m\u001b[1;35mnum_features\u001b[0m\u001b[1;35m \u001b[0m┃\u001b[1;35m \u001b[0m\u001b[1;35minteraction_pairs               \u001b[0m\u001b[1;35m \u001b[0m┃\n",
       "┡━━━━━━━━━━━━━╇━━━━━━━━━━━━━━╇━━━━━━━━━━━━━━━━━━━━━━━━━━━━━━━━━━┩\n",
       "│ 500         │ 5            │ [(0, 1), (1, 2)]                 │\n",
       "│ 500         │ 5            │ [(0, 1), (1, 3), (2, 3)]         │\n",
       "│ 500         │ 5            │ [(0, 1), (1, 2), (2, 3), (3, 4)] │\n",
       "│ 500         │ 7            │ [(0, 1), (1, 2)]                 │\n",
       "│ 500         │ 7            │ [(0, 1), (1, 3), (2, 3)]         │\n",
       "│ 500         │ 7            │ [(0, 1), (1, 2), (2, 3), (3, 4)] │\n",
       "│ 1000        │ 5            │ [(0, 1), (1, 2)]                 │\n",
       "│ 1000        │ 5            │ [(0, 1), (1, 3), (2, 3)]         │\n",
       "│ 1000        │ 5            │ [(0, 1), (1, 2), (2, 3), (3, 4)] │\n",
       "│ 1000        │ 7            │ [(0, 1), (1, 2)]                 │\n",
       "│ 1000        │ 7            │ [(0, 1), (1, 3), (2, 3)]         │\n",
       "│ 1000        │ 7            │ [(0, 1), (1, 2), (2, 3), (3, 4)] │\n",
       "│ 2000        │ 5            │ [(0, 1), (1, 2)]                 │\n",
       "│ 2000        │ 5            │ [(0, 1), (1, 3), (2, 3)]         │\n",
       "│ 2000        │ 5            │ [(0, 1), (1, 2), (2, 3), (3, 4)] │\n",
       "│ 2000        │ 7            │ [(0, 1), (1, 2)]                 │\n",
       "│ 2000        │ 7            │ [(0, 1), (1, 3), (2, 3)]         │\n",
       "│ 2000        │ 7            │ [(0, 1), (1, 2), (2, 3), (3, 4)] │\n",
       "│ 5000        │ 5            │ [(0, 1), (1, 2)]                 │\n",
       "│ 5000        │ 5            │ [(0, 1), (1, 3), (2, 3)]         │\n",
       "│ 5000        │ 5            │ [(0, 1), (1, 2), (2, 3), (3, 4)] │\n",
       "│ 5000        │ 7            │ [(0, 1), (1, 2)]                 │\n",
       "│ 5000        │ 7            │ [(0, 1), (1, 3), (2, 3)]         │\n",
       "│ 5000        │ 7            │ [(0, 1), (1, 2), (2, 3), (3, 4)] │\n",
       "└─────────────┴──────────────┴──────────────────────────────────┘\n"
      ]
     },
     "metadata": {},
     "output_type": "display_data"
    }
   ],
   "source": [
    "table = rich.table.Table(show_header=True, header_style=\"bold magenta\")\n",
    "table.add_column(\"num_samples\")\n",
    "table.add_column(\"num_features\")\n",
    "table.add_column(\"interaction_pairs\")\n",
    "for num_samples, num_features, interaction_pairs in param_combinations:\n",
    "    table.add_row(str(num_samples), str(num_features), str(interaction_pairs))\n",
    "rich.print(table)\n"
   ]
  },
  {
   "cell_type": "code",
   "execution_count": 7,
   "metadata": {},
   "outputs": [
    {
     "ename": "LinAlgError",
     "evalue": "Singular matrix",
     "output_type": "error",
     "traceback": [
      "\u001b[0;31m---------------------------------------------------------------------------\u001b[0m",
      "\u001b[0;31mLinAlgError\u001b[0m                               Traceback (most recent call last)",
      "\u001b[1;32m/Users/ash/Projects/aml-project-1/notebooks/main.ipynb Cell 6\u001b[0m in \u001b[0;36m9\n\u001b[1;32m      <a href='vscode-notebook-cell:/Users/ash/Projects/aml-project-1/notebooks/main.ipynb#W6sZmlsZQ%3D%3D?line=1'>2</a>\u001b[0m \u001b[39mfor\u001b[39;00m num_samples, num_features, interaction_pairs \u001b[39min\u001b[39;00m param_combinations:\n\u001b[1;32m      <a href='vscode-notebook-cell:/Users/ash/Projects/aml-project-1/notebooks/main.ipynb#W6sZmlsZQ%3D%3D?line=2'>3</a>\u001b[0m     X, y, w_true \u001b[39m=\u001b[39m artificial\u001b[39m.\u001b[39mgenerate_data(\n\u001b[1;32m      <a href='vscode-notebook-cell:/Users/ash/Projects/aml-project-1/notebooks/main.ipynb#W6sZmlsZQ%3D%3D?line=3'>4</a>\u001b[0m         num_samples\u001b[39m=\u001b[39mnum_samples,\n\u001b[1;32m      <a href='vscode-notebook-cell:/Users/ash/Projects/aml-project-1/notebooks/main.ipynb#W6sZmlsZQ%3D%3D?line=4'>5</a>\u001b[0m         num_features\u001b[39m=\u001b[39mnum_features,\n\u001b[1;32m      <a href='vscode-notebook-cell:/Users/ash/Projects/aml-project-1/notebooks/main.ipynb#W6sZmlsZQ%3D%3D?line=5'>6</a>\u001b[0m         interaction_pairs\u001b[39m=\u001b[39minteraction_pairs,\n\u001b[1;32m      <a href='vscode-notebook-cell:/Users/ash/Projects/aml-project-1/notebooks/main.ipynb#W6sZmlsZQ%3D%3D?line=6'>7</a>\u001b[0m     )\n\u001b[0;32m----> <a href='vscode-notebook-cell:/Users/ash/Projects/aml-project-1/notebooks/main.ipynb#W6sZmlsZQ%3D%3D?line=8'>9</a>\u001b[0m     w \u001b[39m=\u001b[39m logistic_regression_irls(X, y, interaction_pairs\u001b[39m=\u001b[39minteraction_pairs)\n\u001b[1;32m     <a href='vscode-notebook-cell:/Users/ash/Projects/aml-project-1/notebooks/main.ipynb#W6sZmlsZQ%3D%3D?line=10'>11</a>\u001b[0m     \u001b[39m# plot results\u001b[39;00m\n\u001b[1;32m     <a href='vscode-notebook-cell:/Users/ash/Projects/aml-project-1/notebooks/main.ipynb#W6sZmlsZQ%3D%3D?line=11'>12</a>\u001b[0m     fig, ax \u001b[39m=\u001b[39m plt\u001b[39m.\u001b[39msubplots(figsize\u001b[39m=\u001b[39m(\u001b[39m16\u001b[39m, \u001b[39m9\u001b[39m))\n",
      "File \u001b[0;32m~/Projects/aml-project-1/src/irls.py:41\u001b[0m, in \u001b[0;36mlogistic_regression_irls\u001b[0;34m(X, y, interaction_pairs, tol, max_iter, delta)\u001b[0m\n\u001b[1;32m     39\u001b[0m \u001b[39m# Compute the Hessian\u001b[39;00m\n\u001b[1;32m     40\u001b[0m H \u001b[39m=\u001b[39m X\u001b[39m.\u001b[39mT \u001b[39m@\u001b[39m W \u001b[39m@\u001b[39m X\n\u001b[0;32m---> 41\u001b[0m H_inv \u001b[39m=\u001b[39m np\u001b[39m.\u001b[39;49mlinalg\u001b[39m.\u001b[39;49minv(H)\n\u001b[1;32m     43\u001b[0m \u001b[39m# Update the coefficients using Newton's method\u001b[39;00m\n\u001b[1;32m     44\u001b[0m z \u001b[39m=\u001b[39m X \u001b[39m@\u001b[39m w \u001b[39m+\u001b[39m np\u001b[39m.\u001b[39mlinalg\u001b[39m.\u001b[39minv(W) \u001b[39m@\u001b[39m (y \u001b[39m-\u001b[39m p)\n",
      "File \u001b[0;32m<__array_function__ internals>:180\u001b[0m, in \u001b[0;36minv\u001b[0;34m(*args, **kwargs)\u001b[0m\n",
      "File \u001b[0;32m~/opt/miniconda3/envs/myenv/lib/python3.9/site-packages/numpy/linalg/linalg.py:552\u001b[0m, in \u001b[0;36minv\u001b[0;34m(a)\u001b[0m\n\u001b[1;32m    550\u001b[0m signature \u001b[39m=\u001b[39m \u001b[39m'\u001b[39m\u001b[39mD->D\u001b[39m\u001b[39m'\u001b[39m \u001b[39mif\u001b[39;00m isComplexType(t) \u001b[39melse\u001b[39;00m \u001b[39m'\u001b[39m\u001b[39md->d\u001b[39m\u001b[39m'\u001b[39m\n\u001b[1;32m    551\u001b[0m extobj \u001b[39m=\u001b[39m get_linalg_error_extobj(_raise_linalgerror_singular)\n\u001b[0;32m--> 552\u001b[0m ainv \u001b[39m=\u001b[39m _umath_linalg\u001b[39m.\u001b[39;49minv(a, signature\u001b[39m=\u001b[39;49msignature, extobj\u001b[39m=\u001b[39;49mextobj)\n\u001b[1;32m    553\u001b[0m \u001b[39mreturn\u001b[39;00m wrap(ainv\u001b[39m.\u001b[39mastype(result_t, copy\u001b[39m=\u001b[39m\u001b[39mFalse\u001b[39;00m))\n",
      "File \u001b[0;32m~/opt/miniconda3/envs/myenv/lib/python3.9/site-packages/numpy/linalg/linalg.py:89\u001b[0m, in \u001b[0;36m_raise_linalgerror_singular\u001b[0;34m(err, flag)\u001b[0m\n\u001b[1;32m     88\u001b[0m \u001b[39mdef\u001b[39;00m \u001b[39m_raise_linalgerror_singular\u001b[39m(err, flag):\n\u001b[0;32m---> 89\u001b[0m     \u001b[39mraise\u001b[39;00m LinAlgError(\u001b[39m\"\u001b[39m\u001b[39mSingular matrix\u001b[39m\u001b[39m\"\u001b[39m)\n",
      "\u001b[0;31mLinAlgError\u001b[0m: Singular matrix"
     ]
    }
   ],
   "source": [
    "# train and scatter plot results with seaborn for all combinations\n",
    "for num_samples, num_features, interaction_pairs in param_combinations:\n",
    "    X, y, w_true = artificial.generate_data(\n",
    "        num_samples=num_samples,\n",
    "        num_features=num_features,\n",
    "        interaction_pairs=interaction_pairs,\n",
    "    )\n",
    "\n",
    "    w = logistic_regression_irls(X, y, interaction_pairs=interaction_pairs)\n",
    "\n",
    "    # plot results\n",
    "    fig, ax = plt.subplots(figsize=(16, 9))\n",
    "    ax.plot(w_true, label=\"True weights\")\n",
    "    ax.plot(w, label=\"Estimated weights\")\n",
    "    ax.set_xlabel(\"Feature index\")\n",
    "    ax.set_ylabel(\"Weight\")\n",
    "    ax.set_title(f\"num_samples = {num_samples}, num_features = {num_features}, interaction_pairs = {interaction_pairs}\")\n",
    "    ax.legend()\n",
    "    plt.show()\n"
   ]
  },
  {
   "cell_type": "code",
   "execution_count": null,
   "metadata": {},
   "outputs": [],
   "source": []
  }
 ],
 "metadata": {
  "kernelspec": {
   "display_name": "myenv",
   "language": "python",
   "name": "python3"
  },
  "language_info": {
   "codemirror_mode": {
    "name": "ipython",
    "version": 3
   },
   "file_extension": ".py",
   "mimetype": "text/x-python",
   "name": "python",
   "nbconvert_exporter": "python",
   "pygments_lexer": "ipython3",
   "version": "3.9.13"
  },
  "orig_nbformat": 4
 },
 "nbformat": 4,
 "nbformat_minor": 2
}
