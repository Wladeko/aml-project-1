{
 "cells": [
  {
   "cell_type": "code",
   "execution_count": 1,
   "metadata": {},
   "outputs": [],
   "source": [
    "import autorootcwd"
   ]
  },
  {
   "cell_type": "code",
   "execution_count": 7,
   "metadata": {},
   "outputs": [],
   "source": [
    "from sklearn.discriminant_analysis import LinearDiscriminantAnalysis, QuadraticDiscriminantAnalysis\n",
    "from sklearn.neighbors import KNeighborsClassifier\n",
    "from sklearn.model_selection import train_test_split\n",
    "from sklearn.metrics import accuracy_score, precision_score, recall_score, f1_score, roc_auc_score\n",
    "from src.data import heart_disease, titanic, artificial\n",
    "import pandas as pd\n",
    "import seaborn as sns\n",
    "import matplotlib.pyplot as plt\n",
    "\n",
    "# disable warnings\n",
    "import warnings\n",
    "\n",
    "warnings.filterwarnings(\"ignore\")\n"
   ]
  },
  {
   "cell_type": "code",
   "execution_count": 8,
   "metadata": {},
   "outputs": [],
   "source": [
    "# prepare the data\n",
    "X_heart, y_heart = heart_disease.prepare_data()\n",
    "X_titanic, y_titanic = titanic.prepare_data()\n",
    "X_artificial, y_artificial, true_weights = artificial.generate_data(\n",
    "    num_samples=1000, num_features=5, interaction_pairs=None\n",
    ")\n",
    "\n",
    "# split the data into train and test sets\n",
    "X_train_heart, X_test_heart, y_train_heart, y_test_heart = train_test_split(\n",
    "    X_heart,\n",
    "    y_heart,\n",
    "    test_size=0.2,\n",
    "    random_state=42,\n",
    ")\n",
    "X_train_titanic, X_test_titanic, y_train_titanic, y_test_titanic = train_test_split(\n",
    "    X_titanic,\n",
    "    y_titanic,\n",
    "    test_size=0.2,\n",
    "    random_state=42,\n",
    ")\n",
    "X_train_artificial, X_test_artificial, y_train_artificial, y_test_artificial = train_test_split(\n",
    "    X_artificial,\n",
    "    y_artificial,\n",
    "    test_size=0.2,\n",
    "    random_state=42,\n",
    ")\n",
    "\n",
    "# ravel\n",
    "y_train_heart = y_train_heart.ravel()\n",
    "y_test_heart = y_test_heart.ravel()\n",
    "y_train_titanic = y_train_titanic.ravel()\n",
    "y_test_titanic = y_test_titanic.ravel()\n",
    "y_train_artificial = y_train_artificial.ravel()\n",
    "y_test_artificial = y_test_artificial.ravel()\n"
   ]
  },
  {
   "cell_type": "code",
   "execution_count": 9,
   "metadata": {},
   "outputs": [],
   "source": [
    "# Create classifiers\n",
    "lda = LinearDiscriminantAnalysis()\n",
    "qda = QuadraticDiscriminantAnalysis()\n",
    "knn = KNeighborsClassifier()\n"
   ]
  },
  {
   "cell_type": "code",
   "execution_count": 11,
   "metadata": {},
   "outputs": [
    {
     "ename": "TypeError",
     "evalue": "fit() got an unexpected keyword argument 'random_state'",
     "output_type": "error",
     "traceback": [
      "\u001b[0;31m---------------------------------------------------------------------------\u001b[0m",
      "\u001b[0;31mTypeError\u001b[0m                                 Traceback (most recent call last)",
      "\u001b[1;32m/Users/ash/Projects/aml-project-1/notebooks/03_real_datasets_experiments.ipynb Cell 5\u001b[0m in \u001b[0;36m4\n\u001b[1;32m     <a href='vscode-notebook-cell:/Users/ash/Projects/aml-project-1/notebooks/03_real_datasets_experiments.ipynb#W4sZmlsZQ%3D%3D?line=33'>34</a>\u001b[0m     \u001b[39mreturn\u001b[39;00m pd\u001b[39m.\u001b[39mDataFrame(\n\u001b[1;32m     <a href='vscode-notebook-cell:/Users/ash/Projects/aml-project-1/notebooks/03_real_datasets_experiments.ipynb#W4sZmlsZQ%3D%3D?line=34'>35</a>\u001b[0m         [lda_scores, qda_scores, knn_scores],\n\u001b[1;32m     <a href='vscode-notebook-cell:/Users/ash/Projects/aml-project-1/notebooks/03_real_datasets_experiments.ipynb#W4sZmlsZQ%3D%3D?line=35'>36</a>\u001b[0m         columns\u001b[39m=\u001b[39m[\u001b[39m\"\u001b[39m\u001b[39mAccuracy\u001b[39m\u001b[39m\"\u001b[39m, \u001b[39m\"\u001b[39m\u001b[39mPrecision\u001b[39m\u001b[39m\"\u001b[39m, \u001b[39m\"\u001b[39m\u001b[39mRecall\u001b[39m\u001b[39m\"\u001b[39m, \u001b[39m\"\u001b[39m\u001b[39mF1 Score\u001b[39m\u001b[39m\"\u001b[39m, \u001b[39m\"\u001b[39m\u001b[39mROC AUC\u001b[39m\u001b[39m\"\u001b[39m],\n\u001b[1;32m     <a href='vscode-notebook-cell:/Users/ash/Projects/aml-project-1/notebooks/03_real_datasets_experiments.ipynb#W4sZmlsZQ%3D%3D?line=36'>37</a>\u001b[0m         index\u001b[39m=\u001b[39m[\u001b[39m\"\u001b[39m\u001b[39mLDA\u001b[39m\u001b[39m\"\u001b[39m, \u001b[39m\"\u001b[39m\u001b[39mQDA\u001b[39m\u001b[39m\"\u001b[39m, \u001b[39m\"\u001b[39m\u001b[39mKNN\u001b[39m\u001b[39m\"\u001b[39m],\n\u001b[1;32m     <a href='vscode-notebook-cell:/Users/ash/Projects/aml-project-1/notebooks/03_real_datasets_experiments.ipynb#W4sZmlsZQ%3D%3D?line=37'>38</a>\u001b[0m     )\n\u001b[1;32m     <a href='vscode-notebook-cell:/Users/ash/Projects/aml-project-1/notebooks/03_real_datasets_experiments.ipynb#W4sZmlsZQ%3D%3D?line=40'>41</a>\u001b[0m \u001b[39m# Evaluate the classifiers on all datasets\u001b[39;00m\n\u001b[0;32m---> <a href='vscode-notebook-cell:/Users/ash/Projects/aml-project-1/notebooks/03_real_datasets_experiments.ipynb#W4sZmlsZQ%3D%3D?line=41'>42</a>\u001b[0m heart_scores \u001b[39m=\u001b[39m evaluate_classifiers(X_train_heart, X_test_heart, y_train_heart, y_test_heart)\n\u001b[1;32m     <a href='vscode-notebook-cell:/Users/ash/Projects/aml-project-1/notebooks/03_real_datasets_experiments.ipynb#W4sZmlsZQ%3D%3D?line=42'>43</a>\u001b[0m titanic_scores \u001b[39m=\u001b[39m evaluate_classifiers(X_train_titanic, X_test_titanic, y_train_titanic, y_test_titanic)\n\u001b[1;32m     <a href='vscode-notebook-cell:/Users/ash/Projects/aml-project-1/notebooks/03_real_datasets_experiments.ipynb#W4sZmlsZQ%3D%3D?line=43'>44</a>\u001b[0m artificial_scores \u001b[39m=\u001b[39m evaluate_classifiers(X_train_artificial, X_test_artificial, y_train_artificial, y_test_artificial)\n",
      "\u001b[1;32m/Users/ash/Projects/aml-project-1/notebooks/03_real_datasets_experiments.ipynb Cell 5\u001b[0m in \u001b[0;36m4\n\u001b[1;32m      <a href='vscode-notebook-cell:/Users/ash/Projects/aml-project-1/notebooks/03_real_datasets_experiments.ipynb#W4sZmlsZQ%3D%3D?line=1'>2</a>\u001b[0m \u001b[39mdef\u001b[39;00m \u001b[39mevaluate_classifiers\u001b[39m(X_train, X_test, y_train, y_test):\n\u001b[1;32m      <a href='vscode-notebook-cell:/Users/ash/Projects/aml-project-1/notebooks/03_real_datasets_experiments.ipynb#W4sZmlsZQ%3D%3D?line=2'>3</a>\u001b[0m     \u001b[39m# Fit classifiers on the training data\u001b[39;00m\n\u001b[0;32m----> <a href='vscode-notebook-cell:/Users/ash/Projects/aml-project-1/notebooks/03_real_datasets_experiments.ipynb#W4sZmlsZQ%3D%3D?line=3'>4</a>\u001b[0m     lda\u001b[39m.\u001b[39;49mfit(X_train, y_train, random_state\u001b[39m=\u001b[39;49m\u001b[39m42\u001b[39;49m)\n\u001b[1;32m      <a href='vscode-notebook-cell:/Users/ash/Projects/aml-project-1/notebooks/03_real_datasets_experiments.ipynb#W4sZmlsZQ%3D%3D?line=4'>5</a>\u001b[0m     qda\u001b[39m.\u001b[39mfit(X_train, y_train)\n\u001b[1;32m      <a href='vscode-notebook-cell:/Users/ash/Projects/aml-project-1/notebooks/03_real_datasets_experiments.ipynb#W4sZmlsZQ%3D%3D?line=5'>6</a>\u001b[0m     knn\u001b[39m.\u001b[39mfit(X_train, y_train)\n",
      "\u001b[0;31mTypeError\u001b[0m: fit() got an unexpected keyword argument 'random_state'"
     ]
    }
   ],
   "source": [
    "# Define a function to evaluate the classifiers\n",
    "def evaluate_classifiers(X_train, X_test, y_train, y_test):\n",
    "    # Fit classifiers on the training data\n",
    "    lda.fit(X_train, y_train)\n",
    "    qda.fit(X_train, y_train)\n",
    "    knn.fit(X_train, y_train)\n",
    "\n",
    "    # Evaluate classifiers on the test data\n",
    "    lda_scores = [\n",
    "        accuracy_score(y_test, lda.predict(X_test)),\n",
    "        precision_score(y_test, lda.predict(X_test)),\n",
    "        recall_score(y_test, lda.predict(X_test)),\n",
    "        f1_score(y_test, lda.predict(X_test)),\n",
    "        roc_auc_score(y_test, lda.predict_proba(X_test)[:, 1]),\n",
    "    ]\n",
    "\n",
    "    qda_scores = [\n",
    "        accuracy_score(y_test, qda.predict(X_test)),\n",
    "        precision_score(y_test, qda.predict(X_test)),\n",
    "        recall_score(y_test, qda.predict(X_test)),\n",
    "        f1_score(y_test, qda.predict(X_test)),\n",
    "        roc_auc_score(y_test, qda.predict_proba(X_test)[:, 1]),\n",
    "    ]\n",
    "\n",
    "    knn_scores = [\n",
    "        accuracy_score(y_test, knn.predict(X_test)),\n",
    "        precision_score(y_test, knn.predict(X_test)),\n",
    "        recall_score(y_test, knn.predict(X_test)),\n",
    "        f1_score(y_test, knn.predict(X_test)),\n",
    "        roc_auc_score(y_test, knn.predict_proba(X_test)[:, 1]),\n",
    "    ]\n",
    "\n",
    "    # Return the scores\n",
    "    return pd.DataFrame(\n",
    "        [lda_scores, qda_scores, knn_scores],\n",
    "        columns=[\"Accuracy\", \"Precision\", \"Recall\", \"F1 Score\", \"ROC AUC\"],\n",
    "        index=[\"LDA\", \"QDA\", \"KNN\"],\n",
    "    )\n",
    "\n",
    "\n",
    "# Evaluate the classifiers on all datasets\n",
    "heart_scores = evaluate_classifiers(X_train_heart, X_test_heart, y_train_heart, y_test_heart)\n",
    "titanic_scores = evaluate_classifiers(X_train_titanic, X_test_titanic, y_train_titanic, y_test_titanic)\n",
    "artificial_scores = evaluate_classifiers(X_train_artificial, X_test_artificial, y_train_artificial, y_test_artificial)\n",
    "\n",
    "# Plot the scores\n",
    "fig, axes = plt.subplots(3, 1, figsize=(12, 12))\n",
    "sns.heatmap(heart_scores, annot=True, ax=axes[0])\n",
    "sns.heatmap(titanic_scores, annot=True, ax=axes[1])\n",
    "sns.heatmap(artificial_scores, annot=True, ax=axes[2])\n",
    "axes[0].set_title(\"Heart Disease\")\n",
    "axes[1].set_title(\"Titanic\")\n",
    "axes[2].set_title(\"Artificial\")\n",
    "plt.show()"
   ]
  },
  {
   "cell_type": "code",
   "execution_count": null,
   "metadata": {},
   "outputs": [],
   "source": []
  }
 ],
 "metadata": {
  "kernelspec": {
   "display_name": "myenv",
   "language": "python",
   "name": "python3"
  },
  "language_info": {
   "codemirror_mode": {
    "name": "ipython",
    "version": 3
   },
   "file_extension": ".py",
   "mimetype": "text/x-python",
   "name": "python",
   "nbconvert_exporter": "python",
   "pygments_lexer": "ipython3",
   "version": "3.9.13"
  },
  "orig_nbformat": 4
 },
 "nbformat": 4,
 "nbformat_minor": 2
}
