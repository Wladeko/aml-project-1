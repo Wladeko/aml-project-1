{
 "cells": [
  {
   "cell_type": "code",
   "execution_count": 2,
   "metadata": {},
   "outputs": [],
   "source": [
    "import autorootcwd"
   ]
  },
  {
   "cell_type": "code",
   "execution_count": 3,
   "metadata": {},
   "outputs": [],
   "source": [
    "from sklearn.discriminant_analysis import LinearDiscriminantAnalysis, QuadraticDiscriminantAnalysis\n",
    "from sklearn.neighbors import KNeighborsClassifier\n",
    "from sklearn.model_selection import train_test_split\n",
    "from sklearn.metrics import accuracy_score, precision_score, recall_score, f1_score, roc_auc_score\n",
    "from src.data import heart_disease, titanic, artificial"
   ]
  },
  {
   "cell_type": "code",
   "execution_count": 4,
   "metadata": {},
   "outputs": [],
   "source": [
    "# prepare the data\n",
    "X_heart, y_heart = heart_disease.prepare_data()\n",
    "X_titanic, y_titanic = titanic.prepare_data()\n",
    "X_artificial, y_artificial, true_weights = artificial.generate_data(\n",
    "    num_samples=2000, num_features=5, interaction_pairs=[(1, 3), (2, 4)]\n",
    ")\n",
    "\n",
    "# split the data into train and test sets\n",
    "X_train_heart, X_test_heart, y_train_heart, y_test_heart = train_test_split(\n",
    "    X_heart,\n",
    "    y_heart,\n",
    "    test_size=0.2,\n",
    "    random_state=42,\n",
    ")\n",
    "X_train_titanic, X_test_titanic, y_train_titanic, y_test_titanic = train_test_split(\n",
    "    X_titanic,\n",
    "    y_titanic,\n",
    "    test_size=0.2,\n",
    "    random_state=42,\n",
    ")\n",
    "X_train_artificial, X_test_artificial, y_train_artificial, y_test_artificial = train_test_split(\n",
    "    X_artificial,\n",
    "    y_artificial,\n",
    "    test_size=0.2,\n",
    "    random_state=42,\n",
    ")"
   ]
  },
  {
   "cell_type": "code",
   "execution_count": null,
   "metadata": {},
   "outputs": [],
   "source": [
    "# Create classifiers\n",
    "lda = LinearDiscriminantAnalysis()\n",
    "qda = QuadraticDiscriminantAnalysis()\n",
    "knn = KNeighborsClassifier()\n",
    "\n",
    "# Train classifiers\n",
    "lda.fit(X_train, y_train)\n",
    "qda.fit(X_train, y_train)\n",
    "knn.fit(X_train, y_train)\n",
    "\n",
    "# Make predictions\n",
    "lda_preds = lda.predict(X_test)\n",
    "qda_preds = qda.predict(X_test)\n",
    "knn_preds = knn.predict(X_test)"
   ]
  },
  {
   "cell_type": "code",
   "execution_count": null,
   "metadata": {},
   "outputs": [],
   "source": [
    "# train and evaluate the logistic regression model\n",
    "log_reg = LogisticRegression()\n",
    "log_reg.fit(X_train_heart, y_train_heart)\n",
    "y_pred_heart = log_reg.predict(X_test_heart)\n",
    "acc_log_reg_heart = accuracy_score(y_test_heart, y_pred_heart)\n",
    "f1_log_reg_heart = f1_score(y_test_heart, y_pred_heart)\n",
    "roc_auc_log_reg_heart = roc_auc_score(y_test_heart, y_pred_heart)\n",
    "\n",
    "log_reg.fit(X_train_titanic, y_train_titanic)\n",
    "y_pred_titanic = log_reg.predict(X_test_titanic)\n",
    "acc_log_reg_titanic = accuracy_score(y_test_titanic, y_pred_titanic)\n",
    "f1_log_reg_titanic = f1_score(y_test_titanic, y_pred_titanic)\n",
    "roc_auc_log_reg_titanic = roc_auc_score(y_test_titanic, y_pred_titanic)\n",
    "\n",
    "log_reg.fit(X_train_artificial, y_train_artificial)\n",
    "y_pred_artificial = log_reg.predict(X_test_artificial)\n",
    "acc_log_reg_artificial = accuracy_score(y_test_artificial, y_pred_artificial)\n",
    "f1_log_reg_artificial = f1_score(y_test_artificial, y_pred_artificial)\n",
    "roc_auc_log_reg_artificial = roc_auc_score(y_test_artificial, y_pred_artificial)\n",
    "\n",
    "# train and evaluate the LDA model\n",
    "lda = LinearDiscriminantAnalysis()\n",
    "lda.fit(X_train_heart, y_train_heart)\n",
    "y_pred_heart = lda.predict(X_test_heart)\n",
    "acc_lda_heart = accuracy_score(y_test_heart, y_pred_heart)\n",
    "f1_lda_heart = f1_score(y_test_heart, y_pred_heart)\n",
    "roc_auc_lda_heart = roc_auc_score(y_test_heart, y_pred_heart)\n",
    "\n",
    "lda.fit(X_train_titanic, y_train_titanic)\n",
    "y_pred_titanic = lda.predict(X_test_titanic)\n",
    "acc_lda_titanic = accuracy_score(y_test_titanic, y_pred_titanic)\n",
    "f1_lda_titanic = f1_score(y_test_titanic, y_pred_titanic)\n",
    "roc_auc_lda_titanic = roc_auc_score(y_test_titanic, y_pred_titanic)\n"
   ]
  }
 ],
 "metadata": {
  "kernelspec": {
   "display_name": "myenv",
   "language": "python",
   "name": "python3"
  },
  "language_info": {
   "codemirror_mode": {
    "name": "ipython",
    "version": 3
   },
   "file_extension": ".py",
   "mimetype": "text/x-python",
   "name": "python",
   "nbconvert_exporter": "python",
   "pygments_lexer": "ipython3",
   "version": "3.9.13"
  },
  "orig_nbformat": 4
 },
 "nbformat": 4,
 "nbformat_minor": 2
}
