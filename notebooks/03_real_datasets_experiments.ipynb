{
 "cells": [
  {
   "cell_type": "code",
   "execution_count": null,
   "metadata": {},
   "outputs": [],
   "source": [
    "import autorootcwd"
   ]
  },
  {
   "cell_type": "code",
   "execution_count": null,
   "metadata": {},
   "outputs": [],
   "source": [
    "from sklearn.discriminant_analysis import LinearDiscriminantAnalysis, QuadraticDiscriminantAnalysis\n",
    "from sklearn.neighbors import KNeighborsClassifier\n",
    "from sklearn.linear_model import LogisticRegression\n",
    "\n",
    "from sklearn.model_selection import train_test_split\n",
    "from sklearn.metrics import (\n",
    "    accuracy_score,\n",
    "    precision_score,\n",
    "    recall_score,\n",
    "    f1_score,\n",
    "    roc_auc_score,\n",
    "    roc_curve,\n",
    "    confusion_matrix,\n",
    ")\n",
    "import pandas as pd\n",
    "import seaborn as sns\n",
    "import matplotlib.pyplot as plt\n",
    "\n",
    "from src.data import heart_disease, titanic, artificial\n",
    "from src.irls import IRLS\n"
   ]
  },
  {
   "cell_type": "code",
   "execution_count": null,
   "metadata": {},
   "outputs": [],
   "source": [
    "# disable warnings\n",
    "import warnings\n",
    "\n",
    "warnings.filterwarnings(\"ignore\")\n"
   ]
  },
  {
   "cell_type": "markdown",
   "metadata": {},
   "source": [
    "## Prepare data"
   ]
  },
  {
   "cell_type": "code",
   "execution_count": null,
   "metadata": {},
   "outputs": [],
   "source": [
    "# prepare the data\n",
    "X_heart, y_heart = heart_disease.prepare_data()\n",
    "X_titanic, y_titanic = titanic.prepare_data()\n",
    "X_artificial, y_artificial, true_weights = artificial.generate_data(\n",
    "    num_samples=1000, num_features=5, interaction_pairs=None\n",
    ")\n",
    "\n",
    "# split the data into train and test sets\n",
    "X_train_heart, X_test_heart, y_train_heart, y_test_heart = train_test_split(\n",
    "    X_heart,\n",
    "    y_heart,\n",
    "    test_size=0.2,\n",
    "    random_state=42,\n",
    ")\n",
    "X_train_titanic, X_test_titanic, y_train_titanic, y_test_titanic = train_test_split(\n",
    "    X_titanic,\n",
    "    y_titanic,\n",
    "    test_size=0.2,\n",
    "    random_state=42,\n",
    ")\n",
    "X_train_artificial, X_test_artificial, y_train_artificial, y_test_artificial = train_test_split(\n",
    "    X_artificial,\n",
    "    y_artificial,\n",
    "    test_size=0.2,\n",
    "    random_state=42,\n",
    ")"
   ]
  },
  {
   "cell_type": "code",
   "execution_count": null,
   "metadata": {},
   "outputs": [],
   "source": [
    "# print shapes and dtypes\n",
    "print(\"X_train_heart:\", X_train_heart.shape, X_train_heart.dtype)\n",
    "print(\"y_train_heart:\", y_train_heart.shape, y_train_heart.dtype)\n",
    "print(\"X_test_heart:\", X_test_heart.shape, X_test_heart.dtype)\n",
    "print(\"y_test_heart:\", y_test_heart.shape, y_test_heart.dtype)\n",
    "print()\n",
    "print(\"X_train_titanic:\", X_train_titanic.shape, X_train_titanic.dtype)\n",
    "print(\"y_train_titanic:\", y_train_titanic.shape, y_train_titanic.dtype)\n",
    "print(\"X_test_titanic:\", X_test_titanic.shape, X_test_titanic.dtype)\n",
    "print(\"y_test_titanic:\", y_test_titanic.shape, y_test_titanic.dtype)\n",
    "print()\n",
    "print(\"X_train_artificial:\", X_train_artificial.shape, X_train_artificial.dtype)\n",
    "print(\"y_train_artificial:\", y_train_artificial.shape, y_train_artificial.dtype)\n",
    "print(\"X_test_artificial:\", X_test_artificial.shape, X_test_artificial.dtype)\n",
    "print(\"y_test_artificial:\", y_test_artificial.shape, y_test_artificial.dtype)\n"
   ]
  },
  {
   "cell_type": "markdown",
   "metadata": {},
   "source": [
    "## Fit and evaluate the classifiers"
   ]
  },
  {
   "cell_type": "code",
   "execution_count": null,
   "metadata": {},
   "outputs": [],
   "source": [
    "# Define a function to evaluate the classifiers\n",
    "def evaluate_classifiers(X_train, X_test, y_train, y_test):\n",
    "    # Create classifiers\n",
    "    lda = LinearDiscriminantAnalysis()\n",
    "    qda = QuadraticDiscriminantAnalysis()\n",
    "    knn = KNeighborsClassifier()\n",
    "    irls = LogisticRegression(solver=\"newton-cg\")\n",
    "    irls_custom = IRLS()\n",
    "\n",
    "    # Fit classifiers on the training data\n",
    "    lda.fit(X_train, y_train)\n",
    "    qda.fit(X_train, y_train)\n",
    "    knn.fit(X_train, y_train)\n",
    "    irls.fit(X_train, y_train)\n",
    "    irls_custom.fit(X_train, y_train)\n",
    "\n",
    "    # Evaluate classifiers on the test data\n",
    "    lda_scores = [\n",
    "        accuracy_score(y_test, lda.predict(X_test)),\n",
    "        precision_score(y_test, lda.predict(X_test)),\n",
    "        recall_score(y_test, lda.predict(X_test)),\n",
    "        f1_score(y_test, lda.predict(X_test)),\n",
    "    ]\n",
    "\n",
    "    qda_scores = [\n",
    "        accuracy_score(y_test, qda.predict(X_test)),\n",
    "        precision_score(y_test, qda.predict(X_test)),\n",
    "        recall_score(y_test, qda.predict(X_test)),\n",
    "        f1_score(y_test, qda.predict(X_test)),\n",
    "    ]\n",
    "\n",
    "    knn_scores = [\n",
    "        accuracy_score(y_test, knn.predict(X_test)),\n",
    "        precision_score(y_test, knn.predict(X_test)),\n",
    "        recall_score(y_test, knn.predict(X_test)),\n",
    "        f1_score(y_test, knn.predict(X_test)),\n",
    "    ]\n",
    "\n",
    "    irls_scores = [\n",
    "        accuracy_score(y_test, irls.predict(X_test)),\n",
    "        precision_score(y_test, irls.predict(X_test)),\n",
    "        recall_score(y_test, irls.predict(X_test)),\n",
    "        f1_score(y_test, irls.predict(X_test)),\n",
    "    ]\n",
    "\n",
    "    irls_custom_scores = [\n",
    "        accuracy_score(y_test, irls_custom.predict(X_test) > 0.5),\n",
    "        precision_score(y_test, irls_custom.predict(X_test) > 0.5),\n",
    "        recall_score(y_test, irls_custom.predict(X_test) > 0.5),\n",
    "        f1_score(y_test, irls_custom.predict(X_test) > 0.5),\n",
    "    ]\n",
    "\n",
    "    # Return the scores\n",
    "    return pd.DataFrame(\n",
    "        [lda_scores, qda_scores, knn_scores, irls_scores, irls_custom_scores],\n",
    "        index=[\"LDA\", \"QDA\", \"KNN\", \"IRLS\", \"IRLS Custom\"],\n",
    "        columns=[\"Accuracy\", \"Precision\", \"Recall\", \"F1\"],\n",
    "    )\n",
    "\n",
    "\n",
    "# Evaluate the classifiers on all datasets\n",
    "heart_scores = evaluate_classifiers(X_train_heart, X_test_heart, y_train_heart, y_test_heart)\n",
    "titanic_scores = evaluate_classifiers(X_train_titanic, X_test_titanic, y_train_titanic, y_test_titanic)\n",
    "artificial_scores = evaluate_classifiers(X_train_artificial, X_test_artificial, y_train_artificial, y_test_artificial)\n",
    "\n",
    "# Plot the scores\n",
    "fig, axes = plt.subplots(3, 1, figsize=(12, 12))\n",
    "sns.heatmap(heart_scores, annot=True, ax=axes[0])\n",
    "sns.heatmap(titanic_scores, annot=True, ax=axes[1])\n",
    "sns.heatmap(artificial_scores, annot=True, ax=axes[2])\n",
    "axes[0].set_title(\"Heart Disease\")\n",
    "axes[1].set_title(\"Titanic\")\n",
    "axes[2].set_title(\"Artificial\")\n",
    "plt.show()"
   ]
  },
  {
   "attachments": {},
   "cell_type": "markdown",
   "metadata": {},
   "source": [
    "## Compare performance of custom IRLS on titanic and heart disease datasets with and without interactions"
   ]
  },
  {
   "cell_type": "code",
   "execution_count": null,
   "metadata": {},
   "outputs": [],
   "source": [
    "print(\"X_train_heart:\", X_train_heart.shape, X_train_heart.dtype)\n",
    "print(\"y_train_heart:\", y_train_heart.shape, y_train_heart.dtype)\n",
    "print(\"X_test_heart:\", X_test_heart.shape, X_test_heart.dtype)\n",
    "print(\"y_test_heart:\", y_test_heart.shape, y_test_heart.dtype)\n",
    "print()\n",
    "print(\"X_train_titanic:\", X_train_titanic.shape, X_train_titanic.dtype)\n",
    "print(\"y_train_titanic:\", y_train_titanic.shape, y_train_titanic.dtype)\n",
    "print(\"X_test_titanic:\", X_test_titanic.shape, X_test_titanic.dtype)\n",
    "print(\"y_test_titanic:\", y_test_titanic.shape, y_test_titanic.dtype)\n"
   ]
  },
  {
   "cell_type": "code",
   "execution_count": null,
   "metadata": {},
   "outputs": [],
   "source": [
    "import itertools\n",
    "\n",
    "interaction_pairs_list = []\n",
    "\n",
    "for i in range(2, 6):\n",
    "    interaction_pairs = list(itertools.combinations(range(0, i), 2))\n",
    "    interaction_pairs_list.append(interaction_pairs)\n",
    "    print(interaction_pairs)\n",
    "\n",
    "interaction_pairs_list = [None] + interaction_pairs_list"
   ]
  },
  {
   "cell_type": "code",
   "execution_count": 75,
   "metadata": {},
   "outputs": [
    {
     "data": {
      "image/png": "[encoded data removed]",
      "text/plain": [
       "<Figure size 694.875x400 with 1 Axes>"
      ]
     },
     "metadata": {},
     "output_type": "display_data"
    },
    {
     "data": {
      "image/png": "[encoded data removed]",
      "text/plain": [
       "<Figure size 694.875x400 with 1 Axes>"
      ]
     },
     "metadata": {},
     "output_type": "display_data"
    }
   ],
   "source": [
    "import seaborn as sns\n",
    "import matplotlib.pyplot as plt\n",
    "import numpy as np\n",
    "\n",
    "np.random.seed(42)\n",
    "\n",
    "# Create a list of interaction pair names\n",
    "interaction_pair_names = [f\"Interaction Pair {i}\" for i in range(len(interaction_pairs_list))]\n",
    "\n",
    "# Create an empty DataFrame to store the evaluation scores\n",
    "scores_df = pd.DataFrame(columns=[\"Dataset\", \"Interaction Pair\", \"Metric\", \"Score\"])\n",
    "\n",
    "ds1 = (X_train_heart, X_test_heart, y_train_heart, y_test_heart)\n",
    "ds2 = (X_train_titanic, X_test_titanic, y_train_titanic, y_test_titanic)\n",
    "\n",
    "# Loop over each dataset and interaction pair, and evaluate the model\n",
    "for ds_name, dataset in [(\"Heart Disease\", ds1), (\"Titanic\", ds2)]:\n",
    "    for i, interaction_pairs in enumerate(interaction_pairs_list):\n",
    "        irls_custom = IRLS(interaction_pairs=interaction_pairs, max_iter=1000, tol=1e-6)\n",
    "\n",
    "        try:\n",
    "            irls_custom.fit(dataset[0], dataset[2])\n",
    "        except np.linalg.LinAlgError:\n",
    "            print(\"skipped!\")\n",
    "            continue\n",
    "\n",
    "        y_pred = irls_custom.predict(dataset[1]) > 0.5\n",
    "        scores = [\n",
    "            (\"Accuracy\", accuracy_score(dataset[3], y_pred)),\n",
    "            (\"Precision\", precision_score(dataset[3], y_pred)),\n",
    "            (\"Recall\", recall_score(dataset[3], y_pred)),\n",
    "            (\"F1-Score\", f1_score(dataset[3], y_pred)),\n",
    "        ]\n",
    "\n",
    "        name = str(interaction_pairs).replace(\")\", \")\\n\")\n",
    "        # remove \"[\" and \"]\" from the string\n",
    "        name = name[1:-1]\n",
    "        # remove \", \" from the string\n",
    "        name = name.replace(\", (\", \"(\")\n",
    "        name = \"None\" if not interaction_pairs else name\n",
    "\n",
    "        for metric, score in scores:\n",
    "            scores_df = scores_df.append(\n",
    "                {\"Dataset\": ds_name, \"Interaction Pair\": name, \"Metric\": metric, \"Score\": score},\n",
    "                ignore_index=True,\n",
    "            )\n",
    "\n",
    "    sns.set(font_scale=0.8)  # Decrease font size\n",
    "    sns.set_style(\"whitegrid\")  # Add white grid lines\n",
    "    sns.set_palette(\"colorblind\")  # Use colorblind-friendly palette\n",
    "    aspect_ratio = 1.5  # Adjust aspect ratio to reduce overlap\n",
    "    g = sns.catplot(\n",
    "        x=\"Interaction Pair\",\n",
    "        y=\"Score\",\n",
    "        hue=\"Metric\",\n",
    "        col=\"Dataset\",\n",
    "        data=scores_df,\n",
    "        kind=\"bar\",\n",
    "        height=4,\n",
    "        aspect=aspect_ratio,\n",
    "    )\n",
    "\n",
    "    if ds_name == \"Heart Disease\":\n",
    "        g.set(ylim=(0.8, 1))\n",
    "\n",
    "    plt.show()\n",
    "\n",
    "    scores_df = pd.DataFrame(columns=[\"Dataset\", \"Interaction Pair\", \"Metric\", \"Score\"])\n"
   ]
  },
  {
   "cell_type": "code",
   "execution_count": null,
   "metadata": {},
   "outputs": [],
   "source": []
  }
 ],
 "metadata": {
  "kernelspec": {
   "display_name": "myenv",
   "language": "python",
   "name": "python3"
  },
  "language_info": {
   "codemirror_mode": {
    "name": "ipython",
    "version": 3
   },
   "file_extension": ".py",
   "mimetype": "text/x-python",
   "name": "python",
   "nbconvert_exporter": "python",
   "pygments_lexer": "ipython3",
   "version": "3.9.13"
  },
  "orig_nbformat": 4
 },
 "nbformat": 4,
 "nbformat_minor": 2
}
