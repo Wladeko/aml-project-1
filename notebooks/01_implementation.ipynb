{
 "cells": [
  {
   "cell_type": "code",
   "execution_count": 2,
   "metadata": {},
   "outputs": [],
   "source": [
    "import autorootcwd"
   ]
  },
  {
   "cell_type": "code",
   "execution_count": 3,
   "metadata": {},
   "outputs": [],
   "source": [
    "import numpy as np\n",
    "from rich import print\n",
    "from rich.table import Table\n",
    "\n",
    "from src.irls import logistic_regression_irls\n",
    "from src.data import artificial"
   ]
  },
  {
   "cell_type": "code",
   "execution_count": 4,
   "metadata": {},
   "outputs": [
    {
     "data": {
      "text/html": [
       "<pre style=\"white-space:pre;overflow-x:auto;line-height:normal;font-family:Menlo,'DejaVu Sans Mono',consolas,'Courier New',monospace\">┏━━━━━━━━━━━━━━┳━━━━━━━━┳━━━━━━━━━━━┳━━━━━━━┓\n",
       "┃<span style=\"color: #800080; text-decoration-color: #800080; font-weight: bold\"> Coefficients </span>┃<span style=\"color: #800080; text-decoration-color: #800080; font-weight: bold\"> True   </span>┃<span style=\"color: #800080; text-decoration-color: #800080; font-weight: bold\"> Estimated </span>┃<span style=\"color: #800080; text-decoration-color: #800080; font-weight: bold\"> MAE   </span>┃\n",
       "┡━━━━━━━━━━━━━━╇━━━━━━━━╇━━━━━━━━━━━╇━━━━━━━┩\n",
       "│ Feature 1    │ -1.241 │ -0.994    │<span style=\"color: #008000; text-decoration-color: #008000; font-weight: bold\"> 0.247 </span>│\n",
       "│ Feature 2    │ -0.313 │ -0.321    │<span style=\"color: #008000; text-decoration-color: #008000; font-weight: bold\"> 0.008 </span>│\n",
       "│ Feature 3    │ -0.849 │ -0.731    │<span style=\"color: #008000; text-decoration-color: #008000; font-weight: bold\"> 0.118 </span>│\n",
       "│ Feature 4    │ 2.378  │ 1.787     │<span style=\"color: #008000; text-decoration-color: #008000; font-weight: bold\"> 0.590 </span>│\n",
       "│ Feature 5    │ 0.658  │ 0.554     │<span style=\"color: #008000; text-decoration-color: #008000; font-weight: bold\"> 0.103 </span>│\n",
       "└──────────────┴────────┴───────────┴───────┘\n",
       "</pre>\n"
      ],
      "text/plain": [
       "┏━━━━━━━━━━━━━━┳━━━━━━━━┳━━━━━━━━━━━┳━━━━━━━┓\n",
       "┃\u001b[1;35m \u001b[0m\u001b[1;35mCoefficients\u001b[0m\u001b[1;35m \u001b[0m┃\u001b[1;35m \u001b[0m\u001b[1;35mTrue  \u001b[0m\u001b[1;35m \u001b[0m┃\u001b[1;35m \u001b[0m\u001b[1;35mEstimated\u001b[0m\u001b[1;35m \u001b[0m┃\u001b[1;35m \u001b[0m\u001b[1;35mMAE  \u001b[0m\u001b[1;35m \u001b[0m┃\n",
       "┡━━━━━━━━━━━━━━╇━━━━━━━━╇━━━━━━━━━━━╇━━━━━━━┩\n",
       "│ Feature 1    │ -1.241 │ -0.994    │\u001b[1;32m \u001b[0m\u001b[1;32m0.247\u001b[0m\u001b[1;32m \u001b[0m│\n",
       "│ Feature 2    │ -0.313 │ -0.321    │\u001b[1;32m \u001b[0m\u001b[1;32m0.008\u001b[0m\u001b[1;32m \u001b[0m│\n",
       "│ Feature 3    │ -0.849 │ -0.731    │\u001b[1;32m \u001b[0m\u001b[1;32m0.118\u001b[0m\u001b[1;32m \u001b[0m│\n",
       "│ Feature 4    │ 2.378  │ 1.787     │\u001b[1;32m \u001b[0m\u001b[1;32m0.590\u001b[0m\u001b[1;32m \u001b[0m│\n",
       "│ Feature 5    │ 0.658  │ 0.554     │\u001b[1;32m \u001b[0m\u001b[1;32m0.103\u001b[0m\u001b[1;32m \u001b[0m│\n",
       "└──────────────┴────────┴───────────┴───────┘\n"
      ]
     },
     "metadata": {},
     "output_type": "display_data"
    },
    {
     "data": {
      "text/html": [
       "<pre style=\"white-space:pre;overflow-x:auto;line-height:normal;font-family:Menlo,'DejaVu Sans Mono',consolas,'Courier New',monospace\">Final MAE: <span style=\"color: #008080; text-decoration-color: #008080; font-weight: bold\">0.28950133464635774</span>\n",
       "</pre>\n"
      ],
      "text/plain": [
       "Final MAE: \u001b[1;36m0.28950133464635774\u001b[0m\n"
      ]
     },
     "metadata": {},
     "output_type": "display_data"
    }
   ],
   "source": [
    "np.random.seed(123)\n",
    "\n",
    "# hyperparameters\n",
    "num_samples = 2000\n",
    "num_features = 5\n",
    "interaction_pairs = [(1, 3), (2, 4)]\n",
    "\n",
    "X, y, true_weights = artificial.generate_data(\n",
    "    num_samples=num_samples,\n",
    "    num_features=num_features,\n",
    "    interaction_pairs=interaction_pairs,\n",
    ")\n",
    "\n",
    "weights = logistic_regression_irls(X, y, interaction_pairs=interaction_pairs)\n",
    "\n",
    "table = Table(show_header=True, header_style=\"bold magenta\")\n",
    "table.add_column(\"Coefficients\")\n",
    "table.add_column(\"True\")\n",
    "table.add_column(\"Estimated\")\n",
    "table.add_column(\"MAE\", style=\"bold green\")\n",
    "\n",
    "for i in range(num_features):\n",
    "    table.add_row(\n",
    "        f\"Feature {i+1}\",\n",
    "        f\"{float(true_weights[i]):.3f}\",\n",
    "        f\"{float(weights[i]):.3f}\",\n",
    "        f\"{float(abs(weights[i] - true_weights[i])):.3f}\",\n",
    "    )\n",
    "\n",
    "print(table)\n",
    "\n",
    "mae = np.mean(np.abs(weights - true_weights))\n",
    "print(\"Final MAE:\", mae)"
   ]
  }
 ],
 "metadata": {
  "kernelspec": {
   "display_name": "myenv",
   "language": "python",
   "name": "python3"
  },
  "language_info": {
   "codemirror_mode": {
    "name": "ipython",
    "version": 3
   },
   "file_extension": ".py",
   "mimetype": "text/x-python",
   "name": "python",
   "nbconvert_exporter": "python",
   "pygments_lexer": "ipython3",
   "version": "3.9.13"
  },
  "orig_nbformat": 4
 },
 "nbformat": 4,
 "nbformat_minor": 2
}
