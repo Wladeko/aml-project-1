{
 "cells": [
  {
   "cell_type": "code",
   "execution_count": 1,
   "metadata": {},
   "outputs": [],
   "source": [
    "import autorootcwd"
   ]
  },
  {
   "cell_type": "code",
   "execution_count": 2,
   "metadata": {},
   "outputs": [],
   "source": [
    "import numpy as np\n",
    "from rich import print\n",
    "from rich.table import Table\n",
    "\n",
    "from src.irls import IRLS\n",
    "from src.data import artificial"
   ]
  },
  {
   "cell_type": "code",
   "execution_count": 3,
   "metadata": {},
   "outputs": [
    {
     "data": {
      "text/html": [
       "<pre style=\"white-space:pre;overflow-x:auto;line-height:normal;font-family:Menlo,'DejaVu Sans Mono',consolas,'Courier New',monospace\">┏━━━━━━━━━━━━━━┳━━━━━━━━┳━━━━━━━━━━━┳━━━━━━━┓\n",
       "┃<span style=\"color: #800080; text-decoration-color: #800080; font-weight: bold\"> Coefficients </span>┃<span style=\"color: #800080; text-decoration-color: #800080; font-weight: bold\"> True   </span>┃<span style=\"color: #800080; text-decoration-color: #800080; font-weight: bold\"> Estimated </span>┃<span style=\"color: #800080; text-decoration-color: #800080; font-weight: bold\"> MAE   </span>┃\n",
       "┡━━━━━━━━━━━━━━╇━━━━━━━━╇━━━━━━━━━━━╇━━━━━━━┩\n",
       "│ Feature 1    │ -1.241 │ -1.097    │<span style=\"color: #008000; text-decoration-color: #008000; font-weight: bold\"> 0.144 </span>│\n",
       "│ Feature 2    │ -0.313 │ -0.371    │<span style=\"color: #008000; text-decoration-color: #008000; font-weight: bold\"> 0.058 </span>│\n",
       "│ Feature 3    │ -0.849 │ -0.777    │<span style=\"color: #008000; text-decoration-color: #008000; font-weight: bold\"> 0.072 </span>│\n",
       "│ Feature 4    │ 2.378  │ 2.087     │<span style=\"color: #008000; text-decoration-color: #008000; font-weight: bold\"> 0.291 </span>│\n",
       "│ Feature 5    │ 0.658  │ 0.591     │<span style=\"color: #008000; text-decoration-color: #008000; font-weight: bold\"> 0.066 </span>│\n",
       "└──────────────┴────────┴───────────┴───────┘\n",
       "</pre>\n"
      ],
      "text/plain": [
       "┏━━━━━━━━━━━━━━┳━━━━━━━━┳━━━━━━━━━━━┳━━━━━━━┓\n",
       "┃\u001b[1;35m \u001b[0m\u001b[1;35mCoefficients\u001b[0m\u001b[1;35m \u001b[0m┃\u001b[1;35m \u001b[0m\u001b[1;35mTrue  \u001b[0m\u001b[1;35m \u001b[0m┃\u001b[1;35m \u001b[0m\u001b[1;35mEstimated\u001b[0m\u001b[1;35m \u001b[0m┃\u001b[1;35m \u001b[0m\u001b[1;35mMAE  \u001b[0m\u001b[1;35m \u001b[0m┃\n",
       "┡━━━━━━━━━━━━━━╇━━━━━━━━╇━━━━━━━━━━━╇━━━━━━━┩\n",
       "│ Feature 1    │ -1.241 │ -1.097    │\u001b[1;32m \u001b[0m\u001b[1;32m0.144\u001b[0m\u001b[1;32m \u001b[0m│\n",
       "│ Feature 2    │ -0.313 │ -0.371    │\u001b[1;32m \u001b[0m\u001b[1;32m0.058\u001b[0m\u001b[1;32m \u001b[0m│\n",
       "│ Feature 3    │ -0.849 │ -0.777    │\u001b[1;32m \u001b[0m\u001b[1;32m0.072\u001b[0m\u001b[1;32m \u001b[0m│\n",
       "│ Feature 4    │ 2.378  │ 2.087     │\u001b[1;32m \u001b[0m\u001b[1;32m0.291\u001b[0m\u001b[1;32m \u001b[0m│\n",
       "│ Feature 5    │ 0.658  │ 0.591     │\u001b[1;32m \u001b[0m\u001b[1;32m0.066\u001b[0m\u001b[1;32m \u001b[0m│\n",
       "└──────────────┴────────┴───────────┴───────┘\n"
      ]
     },
     "metadata": {},
     "output_type": "display_data"
    },
    {
     "data": {
      "text/html": [
       "<pre style=\"white-space:pre;overflow-x:auto;line-height:normal;font-family:Menlo,'DejaVu Sans Mono',consolas,'Courier New',monospace\">Final MAE: <span style=\"color: #008080; text-decoration-color: #008080; font-weight: bold\">0.11108690234338614</span>\n",
       "</pre>\n"
      ],
      "text/plain": [
       "Final MAE: \u001b[1;36m0.11108690234338614\u001b[0m\n"
      ]
     },
     "metadata": {},
     "output_type": "display_data"
    }
   ],
   "source": [
    "np.random.seed(123)\n",
    "\n",
    "# hyperparameters\n",
    "num_samples = 2000\n",
    "num_features = 5\n",
    "interaction_pairs = [(1, 3), (2, 4)]\n",
    "\n",
    "X, y, true_weights = artificial.generate_data(\n",
    "    num_samples=num_samples,\n",
    "    num_features=num_features,\n",
    "    interaction_pairs=interaction_pairs,\n",
    ")\n",
    "\n",
    "irls = IRLS(interaction_pairs=interaction_pairs)\n",
    "\n",
    "weights = irls.fit(X, y)\n",
    "\n",
    "table = Table(show_header=True, header_style=\"bold magenta\")\n",
    "table.add_column(\"Coefficients\")\n",
    "table.add_column(\"True\")\n",
    "table.add_column(\"Estimated\")\n",
    "table.add_column(\"MAE\", style=\"bold green\")\n",
    "\n",
    "for i in range(num_features):\n",
    "    table.add_row(\n",
    "        f\"Feature {i+1}\",\n",
    "        f\"{float(true_weights[i]):.3f}\",\n",
    "        f\"{float(weights[i]):.3f}\",\n",
    "        f\"{float(abs(weights[i] - true_weights[i])):.3f}\",\n",
    "    )\n",
    "\n",
    "print(table)\n",
    "\n",
    "mae = np.mean(np.abs(weights - true_weights))\n",
    "print(\"Final MAE:\", mae)"
   ]
  }
 ],
 "metadata": {
  "kernelspec": {
   "display_name": "myenv",
   "language": "python",
   "name": "python3"
  },
  "language_info": {
   "codemirror_mode": {
    "name": "ipython",
    "version": 3
   },
   "file_extension": ".py",
   "mimetype": "text/x-python",
   "name": "python",
   "nbconvert_exporter": "python",
   "pygments_lexer": "ipython3",
   "version": "3.9.13"
  },
  "orig_nbformat": 4
 },
 "nbformat": 4,
 "nbformat_minor": 2
}
